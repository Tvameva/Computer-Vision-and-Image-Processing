{
 "cells": [
  {
   "cell_type": "code",
   "execution_count": 3,
   "metadata": {},
   "outputs": [
    {
     "name": "stdout",
     "output_type": "stream",
     "text": [
      "(600, 900)\n",
      "Sobel X-axis [[-1  0  1]\n",
      " [-2  0  2]\n",
      " [-1  0  1]]\n",
      "Sobel Y-axis [[ 1  2  1]\n",
      " [ 0  0  0]\n",
      " [-1 -2 -1]]\n",
      "[[-0.125  0.     0.125]\n",
      " [-0.25   0.     0.25 ]\n",
      " [-0.125  0.     0.125]]\n",
      "[[ 0.125  0.25   0.125]\n",
      " [ 0.     0.     0.   ]\n",
      " [-0.125 -0.25  -0.125]]\n"
     ]
    }
   ],
   "source": [
    "import cv2\n",
    "from cv2 import imread, imwrite\n",
    "from math import sqrt, pi as CONSTANT_PI, e as CONSTANT_E\n",
    "import numpy as np\n",
    "\n",
    "from cv2 import imshow, waitKey, destroyAllWindows\n",
    "\n",
    "ker_size = 7\n",
    "sigma = 0.5\n",
    "\n",
    "def sobel_operator():\n",
    "    sobel_x = np.array([[-1,0,1],[-2,0,2],[-1,0,1]])\n",
    "    print(\"Sobel X-axis\",sobel_x)\n",
    "    #sobel_x = np.asarray(sobel_x)\n",
    "    sobel_y = np.array([[1,2,1],[0,0,0],[-1,-2,-1]])\n",
    "    print(\"Sobel Y-axis\",sobel_y)\n",
    "    #sobel_y = np.asarray(sobel_y)\n",
    "    return (1/8)*sobel_x, (1/8)*sobel_y\n",
    "\n",
    "def build_Gaussian_Kernel(size, sigma):\n",
    "    if (size%2==0):\n",
    "        size+=1\n",
    "    size_half = (int)(size/2)\n",
    "    low_bound=-1*size_half\n",
    "    up_bound=size_half\n",
    "    kernel = np.zeros((size, size))\n",
    "    sum=0\n",
    "    for kernel_x in np.arange( low_bound, up_bound+1 ):\n",
    "        for kernel_y in np.arange( low_bound, up_bound+1 ):\n",
    "            kernel[kernel_x+size_half][kernel_y+size_half] = (1/( 2*(CONSTANT_PI)*(sigma**2)*( (CONSTANT_E)**( ( ((kernel_x)**2)+((kernel_y)**2) )/( 2*(sigma**2) ) ) ) ))\n",
    "            sum = sum + kernel[kernel_x+size_half][kernel_y+size_half]\n",
    "    for kernel_x in np.arange( low_bound, up_bound+1 ):\n",
    "        for kernel_y in np.arange( low_bound, up_bound+1 ):\n",
    "            kernel[kernel_x+size_half][kernel_y+size_half] = (kernel[kernel_x+size_half][kernel_y+size_half]) / sum\n",
    "    return kernel\n",
    "\n",
    "def convolve(img, kernel):\n",
    "    kernel_size = (int)((kernel.shape[0])/2)\n",
    "    img_abs_mk = img.copy()\n",
    "    convo_img_mk = np.zeros((img_abs_mk.shape[0], img_abs_mk.shape[1]))\n",
    "    for img_x in np.arange( kernel_size, ((img.shape[0])-kernel_size) ):\n",
    "        for img_y in np.arange( kernel_size, ((img.shape[1])-kernel_size) ):\n",
    "            temp = 0\n",
    "            for kernel_x in np.arange(-1, 2):\n",
    "                for kernel_y in np.arange(-1, 2):\n",
    "                    coordinate_ker = kernel[kernel_x+kernel_size, kernel_y+kernel_size]\n",
    "                    coordinate_img = img[img_x-kernel_x, img_y-kernel_y]\n",
    "                    temp = temp + (coordinate_img*coordinate_ker)\n",
    "            img_abs_mk[img_x][img_y] = abs(temp)\n",
    "            convo_img_mk[img_x][img_y] = temp\n",
    "    return convo_img_mk, img_abs_mk\n",
    "\n",
    "def main():\n",
    "    image = cv2.imread(\"task1.png\",0)\n",
    "    edge_x = image.copy()\n",
    "    edge_y = image.copy()\n",
    "    gaussianKernel = build_Gaussian_Kernel(ker_size, sigma)\n",
    "    sobel_x, sobel_y = sobel_operator()\n",
    "    print(sobel_x)\n",
    "    print(sobel_y)\n",
    "    x_edge, x_abs = convolve(image, sobel_x)\n",
    "    y_edge, y_abs = convolve(image, sobel_y)\n",
    "    cv2.imwrite(\"X_edge.png\", x_edge)\n",
    "    cv2.imwrite(\"Y_edge.png\", y_edge)\n",
    "    cv2.imwrite(\"X_abs.png\", x_abs)\n",
    "    cv2.imwrite(\"Y_abs.png\", y_abs)  \n",
    "main()"
   ]
  },
  {
   "cell_type": "code",
   "execution_count": null,
   "metadata": {},
   "outputs": [],
   "source": []
  }
 ],
 "metadata": {
  "kernelspec": {
   "display_name": "Python 3",
   "language": "python",
   "name": "python3"
  },
  "language_info": {
   "codemirror_mode": {
    "name": "ipython",
    "version": 3
   },
   "file_extension": ".py",
   "mimetype": "text/x-python",
   "name": "python",
   "nbconvert_exporter": "python",
   "pygments_lexer": "ipython3",
   "version": "3.6.7"
  }
 },
 "nbformat": 4,
 "nbformat_minor": 2
}
