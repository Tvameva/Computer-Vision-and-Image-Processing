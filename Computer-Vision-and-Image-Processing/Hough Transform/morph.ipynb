{
 "cells": [
  {
   "cell_type": "markdown",
   "metadata": {},
   "source": [
    "### Performing Dilation to filter noise"
   ]
  },
  {
   "cell_type": "code",
   "execution_count": 32,
   "metadata": {},
   "outputs": [
    {
     "data": {
      "text/plain": [
       "True"
      ]
     },
     "execution_count": 32,
     "metadata": {},
     "output_type": "execute_result"
    }
   ],
   "source": [
    "import numpy as np\n",
    "import cv2\n",
    "\n",
    "def dilute1(img):\n",
    "    rt = np.zeros([img.shape[0],img.shape[1]]).astype(int)\n",
    "    yt = img\n",
    "    for i in range(2,img.shape[0]-1):\n",
    "        for j in range(2,img.shape[1]-1):\n",
    "            if(yt[i][j] == 255):\n",
    "                rt[i][j] = 255\n",
    "                rt[i-1][j] = 255\n",
    "                rt[i+1][j] = 255\n",
    "                rt[i][j-1] = 255\n",
    "                rt[i][j+1] = 255\n",
    "    return rt\n",
    "\n",
    "def dilute(img):\n",
    "    rt = np.zeros([img.shape[0],img.shape[1]]).astype(int)\n",
    "    yt = img\n",
    "    for i in range(2,img.shape[0]-1):\n",
    "        pre = img[i-1]\n",
    "        cur = img[i]\n",
    "        aft = img[i+1]\n",
    "        for j in range(2,img.shape[1]-1):\n",
    "            if(pre[j-1] == 255 and pre[j] == 255 and pre[j+1] == 255):\n",
    "                if(aft[j-1] == 255 and aft[j] == 255 and aft[j+1] == 255):\n",
    "                    if(cur[j-1] == 255 and cur[j+1] == 255):\n",
    "                        rt[i][j] = 255\n",
    "                    else:\n",
    "                        rt[i][j] = 0\n",
    "    return rt\n",
    "                \n",
    "\n",
    "img = cv2.imread('noise.jpg',0)\n",
    "new_img = img\n",
    "dil = dilute(new_img)\n",
    "dil1 = dilute1(dil)\n",
    "dil2 = dilute1(dil1)\n",
    "n_bound1 = dil1 - dil\n",
    "n_bound2 = dil2 - dil1\n",
    "#cv2.imwrite(\"res_noise5.jpg\",dil)\n",
    "#cv2.imwrite(\"res_noise_ddil.jpg\",dil1)\n",
    "cv2.imwrite(\"res_bound1.jpg\",n_bound2)"
   ]
  },
  {
   "cell_type": "markdown",
   "metadata": {},
   "source": [
    "### Performing Erosion"
   ]
  },
  {
   "cell_type": "code",
   "execution_count": 33,
   "metadata": {},
   "outputs": [
    {
     "data": {
      "text/plain": [
       "True"
      ]
     },
     "execution_count": 33,
     "metadata": {},
     "output_type": "execute_result"
    }
   ],
   "source": [
    "import numpy as np\n",
    "import cv2\n",
    "\n",
    "def erode1(img):\n",
    "    rt = np.ones([img.shape[0],img.shape[1]]).astype(int)\n",
    "    yt = img\n",
    "    for i in range(2,img.shape[0]-1):\n",
    "        for j in range(2,img.shape[1]-1):\n",
    "            if(yt[i][j] == 0):\n",
    "                rt[i][j] = 0\n",
    "                rt[i-1][j] = 0\n",
    "                rt[i+1][j] = 0\n",
    "                rt[i][j-1] = 0\n",
    "                rt[i][j+1] = 0\n",
    "    rt = rt*255\n",
    "    return rt\n",
    "\n",
    "def erode(img):\n",
    "    rt = np.zeros([img.shape[0],img.shape[1]]).astype(int)\n",
    "    yt = img\n",
    "    for i in range(2,img.shape[0]-1):\n",
    "        pre = img[i-1]\n",
    "        cur = img[i]\n",
    "        aft = img[i+1]\n",
    "        for j in range(2,img.shape[1]-1):\n",
    "            if(pre[j-1] == 0 and pre[j] == 0 and pre[j+1] == 0):\n",
    "                if(aft[j-1] == 0 and aft[j] == 0 and aft[j+1] == 0):\n",
    "                    if(cur[j-1] == 0 and cur[j+1] == 0):\n",
    "                        rt[i][j] = 0\n",
    "                    else:\n",
    "                        rt[i][j] = 255\n",
    "    return rt\n",
    "                \n",
    "\n",
    "img = cv2.imread('noise.jpg',0)\n",
    "new_img = img\n",
    "ero = erode1(new_img)\n",
    "close = dilute1(ero)\n",
    "close = dilute1(close)\n",
    "black = np.zeros([img.shape[0],img.shape[1]]).astype(int)\n",
    "bound1 = img - ero\n",
    "bound2 = dil2 - dil1\n",
    "ero1 = erode1(ero)\n",
    "#cv2.imwrite(\"res_noise4.jpg\",ero)\n",
    "#cv2.imwrite(\"res_noise_boundary.jpg\",bound1)\n",
    "cv2.imwrite(\"res_bound2.jpg\",bound2)\n",
    "#cv2.imwrite(\"res_noise_close.jpg\",close)"
   ]
  },
  {
   "cell_type": "markdown",
   "metadata": {},
   "source": [
    "### Algorithm : Opening followed by Closing"
   ]
  },
  {
   "cell_type": "code",
   "execution_count": 34,
   "metadata": {},
   "outputs": [
    {
     "data": {
      "text/plain": [
       "True"
      ]
     },
     "execution_count": 34,
     "metadata": {},
     "output_type": "execute_result"
    }
   ],
   "source": [
    "img = cv2.imread('noise.jpg',0)\n",
    "dil = dilute(img)\n",
    "dil1 = dilute1(dil)\n",
    "dil2 = dilute1(dil1)\n",
    "ero = erode1(dil2)\n",
    "close = dilute1(ero)\n",
    "close = dilute1(close)\n",
    "cv2.imwrite('res_noise1.jpg',close)"
   ]
  },
  {
   "cell_type": "markdown",
   "metadata": {},
   "source": [
    "### Algorithm : Closing followed by Opening"
   ]
  },
  {
   "cell_type": "code",
   "execution_count": 35,
   "metadata": {},
   "outputs": [
    {
     "data": {
      "text/plain": [
       "True"
      ]
     },
     "execution_count": 35,
     "metadata": {},
     "output_type": "execute_result"
    }
   ],
   "source": [
    "ero = erode1(dil2)\n",
    "close = dilute1(ero)\n",
    "close = dilute1(close)\n",
    "dil = dilute(close)\n",
    "dil1 = dilute1(dil)\n",
    "dil2 = dilute1(dil1)\n",
    "ero = erode1(dil2)\n",
    "cv2.imwrite('res_noise2.jpg',ero)"
   ]
  },
  {
   "cell_type": "markdown",
   "metadata": {},
   "source": [
    "### Point Detection"
   ]
  },
  {
   "cell_type": "code",
   "execution_count": 1,
   "metadata": {},
   "outputs": [],
   "source": [
    "def normal(black):\n",
    "    x=y=0\n",
    "    new_black = np.zeros([black.shape[0],black.shape[1]])\n",
    "    maxi = np.max(black)\n",
    "    print(new_black.shape)\n",
    "    for i in range(0,black.shape[0]):\n",
    "        for j in range(0,black.shape[1]):\n",
    "            new_black[i][j] = (black[i][j]/maxi)*255\n",
    "            if(new_black[i][j] == 255):\n",
    "                new_black[i][j] = 255\n",
    "                x=i\n",
    "                y=j\n",
    "    return new_black,x,y\n",
    "def detect_point(img,kernel):\n",
    "    black = np.zeros([img.shape[0],img.shape[1]])\n",
    "    for i in range(2,img.shape[0]-1):\n",
    "        for j in range(2,img.shape[1]-1):\n",
    "            R=S=T=bound=mid=0\n",
    "            R = kernel[0][0] *img[i-1][j-1]+kernel[0][1]*img[i-1][j]+kernel[0][2]*img[i-1][j+1]\n",
    "            S = kernel[1][0] *img[i][j-1]+kernel[1][2]*img[i][j+1]\n",
    "            T = kernel[2][0] *img[i+1][j-1]+kernel[2][1]*img[i+1][j]+kernel[2][2]*img[i+1][j+1]\n",
    "            bound = R+S+T\n",
    "            mid = kernel[1][1]*img[i][j]\n",
    "            #print(abs(bound-mid))\n",
    "            #if(abs(bound-mid)>=thres):\n",
    "                #black[i][j] = 255\n",
    "            black[i][j] = abs(bound+mid)\n",
    "    return black            "
   ]
  },
  {
   "cell_type": "code",
   "execution_count": 10,
   "metadata": {},
   "outputs": [
    {
     "name": "stdout",
     "output_type": "stream",
     "text": [
      "(766, 571)\n"
     ]
    },
    {
     "data": {
      "text/plain": [
       "True"
      ]
     },
     "execution_count": 10,
     "metadata": {},
     "output_type": "execute_result"
    }
   ],
   "source": [
    "import cv2\n",
    "import numpy as np\n",
    "kernel = ([-1,-1,-1],[-1,8,-1],[-1,-1,-1])\n",
    "thres = 3800\n",
    "img = cv2.imread('blade.jpg',0)\n",
    "black = detect_point(img,kernel)\n",
    "#cv2.imwrite('black.jpg',black)\n",
    "detected,x,y = normal(black)\n",
    "font                   = cv2.FONT_HERSHEY_SCRIPT_SIMPLEX\n",
    "topLeftCornerOfText    = (y+5,x+10)\n",
    "fontScale              = 0.4\n",
    "fontColor              = (255,0,0)\n",
    "lineType               = 1\n",
    "text1                  = (str(y),str(x))\n",
    "cv2.putText(detected,str(text1), topLeftCornerOfText, font, fontScale,fontColor,lineType)\n",
    "cv2.imwrite('detected1.jpg',detected)"
   ]
  },
  {
   "cell_type": "markdown",
   "metadata": {},
   "source": [
    "### Heuristic Threholding and Image segmentation"
   ]
  },
  {
   "cell_type": "code",
   "execution_count": 7,
   "metadata": {},
   "outputs": [],
   "source": [
    "import cv2\n",
    "import numpy as np\n",
    "\n",
    "def draw_rect(hist):\n",
    "    x1=z=hist.shape[1]\n",
    "    q=x2=0\n",
    "    for i in range(hist.shape[0]):\n",
    "        if (np.max(hist[i])) !=0 :\n",
    "            x1 = np.argmax(hist[i])\n",
    "            if x1<z:\n",
    "                z = x1\n",
    "        temp = np.flip(hist[i])\n",
    "        if (np.max(temp)) != 0:\n",
    "            x2 = len(hist[i])-np.argmax(temp)-1\n",
    "            if x2>q:\n",
    "                q=x2\n",
    "    hist_trans = np.transpose(hist)\n",
    "    y1=s=hist_trans.shape[1]\n",
    "    b=y2=0\n",
    "    for i in range(hist_trans.shape[0]):\n",
    "        if (np.max(hist_trans[i])) !=0 :\n",
    "            y1 = np.argmax(hist_trans[i])\n",
    "            if y1<s:\n",
    "                s = y1\n",
    "        temp = np.flip(hist_trans[i])\n",
    "        if (np.max(temp)) != 0:\n",
    "            y2 = len(hist_trans[i])-np.argmax(temp)-1\n",
    "            if y2>b:\n",
    "                b=y2\n",
    "    print(s,b)\n",
    "    cv2.rectangle(hist,(z,s),(q,b),(255,0,0),1)\n",
    "    font                   = cv2.FONT_HERSHEY_SCRIPT_SIMPLEX\n",
    "    bottomLeftCornerOfText = (z-68,b+10)\n",
    "    topLeftCornerOfText = (z-68,s+10)\n",
    "    bottomRightCornerOfText = (q-68,b+10)\n",
    "    topRightCornerOfText = (q-68,s+10)\n",
    "    fontScale              = 0.4\n",
    "    fontColor              = (255,0,0)\n",
    "    lineType               = 1\n",
    "    text1                   = (str(z),str(s))\n",
    "    text2                   = (str(z),str(b))\n",
    "    text3                   = (str(q),str(s))\n",
    "    text4                   = (str(q),str(b))\n",
    "    cv2.putText(hist,str(text1), topLeftCornerOfText, font, fontScale,fontColor,lineType)\n",
    "    cv2.putText(hist,str(text2), bottomLeftCornerOfText, font, fontScale,fontColor,lineType)\n",
    "    cv2.putText(hist,str(text3), topRightCornerOfText, font, fontScale,fontColor,lineType)\n",
    "    cv2.putText(hist,str(text4), bottomRightCornerOfText, font, fontScale,fontColor,lineType)\n",
    "    cv2.imwrite(\"histo1.jpg\",hist)\n",
    "\n",
    "def avg_inten(img,thres):\n",
    "    m1=m2=g1=g2=c1=c2=0\n",
    "    histo = np.zeros([img.shape[0],img.shape[1]])\n",
    "    for i in range(img.shape[0]):\n",
    "        for j in range(img.shape[1]):\n",
    "            if(img[i][j] > thres):\n",
    "                m1 = m1 + img[i][j]\n",
    "                c1 += 1\n",
    "                histo[i][j] = 255\n",
    "            else:\n",
    "                m2 += img[i][j]\n",
    "                c2 += 1\n",
    "    g1 = m1/c1\n",
    "    g2 = m2/c2\n",
    "    new_thres = (g1+g2)/2\n",
    "    print(new_thres)\n",
    "    #print(\"m1               m2              c1               c2                      g1                               g2              thrs\")\n",
    "    #print(\"{}       {}          {}          {}           {}                   {}          {}\".format(m1,m2,c1,c2,g1,g2,new_thres))\n",
    "    #print(\" \")\n",
    "    cv2.imwrite(\"histo.jpg\",histo)\n",
    "    return histo,new_thres"
   ]
  },
  {
   "cell_type": "code",
   "execution_count": 10,
   "metadata": {},
   "outputs": [
    {
     "name": "stdout",
     "output_type": "stream",
     "text": [
      "200\n",
      "150.02494476888927\n",
      "22 284\n"
     ]
    }
   ],
   "source": [
    "img = cv2.imread('segment.jpg',0)\n",
    "pre = 0\n",
    "init_thres = 200\n",
    "f = 0\n",
    "while abs(pre - init_thres) > 50:\n",
    "    print(init_thres)\n",
    "    histo,new_thres = avg_inten(img,init_thres)\n",
    "    pre = init_thres\n",
    "    init_thres = new_thres\n",
    "    #print(init_thres)\n",
    "    #f = f+1\n",
    "hist = cv2.imread('histo.jpg',0)\n",
    "draw_rect(hist)"
   ]
  },
  {
   "cell_type": "markdown",
   "metadata": {},
   "source": [
    "### Houghs' Transform"
   ]
  },
  {
   "cell_type": "code",
   "execution_count": 636,
   "metadata": {},
   "outputs": [
    {
     "data": {
      "text/plain": [
       "True"
      ]
     },
     "execution_count": 636,
     "metadata": {},
     "output_type": "execute_result"
    }
   ],
   "source": [
    "import cv2\n",
    "import numpy as np\n",
    "import math\n",
    "\n",
    "img = cv2.imread('hough.jpg')\n",
    "edges_h = img[:,:,0]\n",
    "edges = img[:,:,2]\n",
    "kernel1 = ([-1,-2,-1],[0,0,0],[1,2,1])\n",
    "kernel2 = ([1,0,-1],[2,0,-2],[1,0,-1]) \n",
    "sob_vert_line = np.zeros([edges.shape[0],edges.shape[1]])\n",
    "sob_hor_line = np.zeros([edges.shape[0],edges.shape[1]])\n",
    "for i in range(2,edges_h.shape[0]-1):\n",
    "    for j in range(2,edges_h.shape[1]-1):\n",
    "        #verticle line\n",
    "        R=S=T=bound=mid=0\n",
    "        R = kernel1[0][0] *edges[i-1][j-1]+kernel1[0][1]*edges[i-1][j]+kernel1[0][2]*edges[i-1][j+1]\n",
    "        S = kernel1[1][0] *edges[i][j-1]+kernel1[1][1]*edges[i][j]+kernel1[1][2]*edges[i][j+1]\n",
    "        T = kernel1[2][0] *edges[i+1][j-1]+kernel1[2][1]*edges[i+1][j]+kernel1[2][2]*edges[i+1][j+1]\n",
    "        bound = R+S+T\n",
    "        if(bound > 80):\n",
    "            sob_vert_line[i][j] = bound\n",
    "        #hori line\n",
    "        R=S=T=bound=mid=0\n",
    "        R = kernel2[0][0] *edges_h[i-1][j-1]+kernel2[0][1]*edges_h[i-1][j]+kernel2[0][2]*edges_h[i-1][j+1]\n",
    "        S = kernel2[1][0] *edges_h[i][j-1]+kernel2[1][1]*edges_h[i][j]+kernel2[1][2]*edges_h[i][j+1]\n",
    "        T = kernel2[2][0] *edges_h[i+1][j-1]+kernel2[2][1]*edges_h[i+1][j]+kernel2[2][2]*edges_h[i+1][j+1]\n",
    "        bound = R+S+T\n",
    "        if(bound > 200):\n",
    "            sob_hor_line[i][j] = bound\n",
    "cv2.imwrite('1sob.jpg',sob_vert_line)\n",
    "cv2.imwrite('2sob.jpg',sob_hor_line)"
   ]
  },
  {
   "cell_type": "code",
   "execution_count": 519,
   "metadata": {},
   "outputs": [
    {
     "data": {
      "text/plain": [
       "True"
      ]
     },
     "execution_count": 519,
     "metadata": {},
     "output_type": "execute_result"
    }
   ],
   "source": [
    "edges = sob_vert_line\n",
    "edges_h =sob_hor_line\n",
    "kernel1 = ([-1,2,-1],[-1,2,-1],[-1,2,-1])\n",
    "kernel2 = ([-1,-1,-1],[2,2,2],[-1,-1,-1])\n",
    "kernel3 = ([2,-1,-1],[-1,2,-1],[-1,-1,2])\n",
    "kernel4 = ([-1,-1,2],[-1,2,-1],[2,-1,-1])\n",
    "vert_line = np.zeros([edges.shape[0],edges.shape[1]])\n",
    "hori_line = np.zeros([edges.shape[0],edges.shape[1]])\n",
    "ang1_line = np.zeros([edges.shape[0],edges.shape[1]])\n",
    "ang2_line = np.zeros([edges.shape[0],edges.shape[1]])\n",
    "for i in range(2,edges.shape[0]-1):\n",
    "    for j in range(2,edges.shape[1]-1):\n",
    "        #verticle line\n",
    "        R=S=T=bound=mid=0\n",
    "        R = kernel1[0][0] *edges_h[i-1][j-1]+kernel1[0][1]*edges_h[i-1][j]+kernel1[0][2]*edges_h[i-1][j+1]\n",
    "        S = kernel1[1][0] *edges_h[i][j-1]+kernel1[1][1]*edges_h[i][j]+kernel1[1][2]*edges_h[i][j+1]\n",
    "        T = kernel1[2][0] *edges_h[i+1][j-1]+kernel1[2][1]*edges_h[i+1][j]+kernel1[2][2]*edges_h[i+1][j+1]\n",
    "        bound = R+S+T\n",
    "        vert_line[i][j] = bound\n",
    "        #horizontal line\n",
    "        R=S=T=bound=mid=0\n",
    "        R = kernel2[0][0] *edges[i-1][j-1]+kernel2[0][1]*edges[i-1][j]+kernel2[0][2]*edges[i-1][j+1]\n",
    "        S = kernel2[1][0] *edges[i][j-1]+kernel2[1][1]*edges[i][j]+kernel2[1][2]*edges[i][j+1]\n",
    "        T = kernel2[2][0] *edges[i+1][j-1]+kernel2[2][1]*edges[i+1][j]+kernel2[2][2]*edges[i+1][j+1]\n",
    "        bound = R+S+T\n",
    "        hori_line[i][j] = bound\n",
    "        #lines at angle +45\n",
    "        R=S=T=bound=mid=0\n",
    "        R = kernel3[0][0] *edges[i-1][j-1]+kernel3[0][1]*edges[i-1][j]+kernel3[0][2]*edges[i-1][j+1]\n",
    "        S = kernel3[1][0] *edges[i][j-1]+kernel3[1][1]*edges[i][j]+kernel3[1][2]*edges[i][j+1]\n",
    "        T = kernel3[2][0] *edges[i+1][j-1]+kernel3[2][1]*edges[i+1][j]+kernel3[2][2]*edges[i+1][j+1]\n",
    "        bound = R+S+T\n",
    "        ang1_line[i][j] = bound\n",
    "        #lines at angle -45\n",
    "        R=S=T=bound=mid=0\n",
    "        R = kernel4[0][0] *edges[i-1][j-1]+kernel4[0][1]*edges[i-1][j]+kernel4[0][2]*edges[i-1][j+1]\n",
    "        S = kernel4[1][0] *edges[i][j-1]+kernel4[1][1]*edges[i][j]+kernel4[1][2]*edges[i][j+1]\n",
    "        T = kernel4[2][0] *edges[i+1][j-1]+kernel4[2][1]*edges[i+1][j]+kernel4[2][2]*edges[i+1][j+1]\n",
    "        bound = R+S+T\n",
    "        ang2_line[i][j] = bound\n"
   ]
  },
  {
   "cell_type": "code",
   "execution_count": 594,
   "metadata": {},
   "outputs": [],
   "source": [
    "def darker(img):\n",
    "    matrix = np.zeros([img.shape[0],img.shape[1]])\n",
    "    for i in range(0,img.shape[0]):\n",
    "        for j in range(0,img.shape[1]):\n",
    "            if(img[i][j] > 150):\n",
    "                matrix[i][j] = img[i][j]\n",
    "    return matrix\n",
    "\n",
    "def calc_diag(img):\n",
    "    x1 = img.shape[0]\n",
    "    y1 = img.shape[1]\n",
    "    diag = math.sqrt((x1*x1)+(y1*y1))\n",
    "    return math.ceil(diag)\n",
    "\n",
    "def huff(slants,diag):\n",
    "    rho = 0\n",
    "    matrix = np.zeros([1800,181])\n",
    "    #for s in range(-90,90):\n",
    "    for i in range(0,slants.shape[0]):\n",
    "        for j in range(0,slants.shape[1]):\n",
    "            for s in range(-90,90):\n",
    "                if(slants[i][j]>150):\n",
    "                    rho = math.floor(j* math.cos(math.radians(s)) + i* math.sin(math.radians(s)))\n",
    "                    matrix[diag-rho][90+s] += 1\n",
    "    return matrix\n",
    "    "
   ]
  },
  {
   "cell_type": "code",
   "execution_count": 622,
   "metadata": {},
   "outputs": [],
   "source": [
    "def highlight(sin_huff):\n",
    "    mk = np.zeros([sin_huff.shape[0],sin_huff.shape[1]])\n",
    "    ro = []\n",
    "    col =[]\n",
    "    high = np.max(sin_huff)\n",
    "    print(high)\n",
    "    sin_h = sin_huff/high*255\n",
    "    for i in range(0,sin_huff.shape[0]):\n",
    "        for j in range(0,sin_huff.shape[1]):\n",
    "            if(sin_huff[i][j]<140):\n",
    "                mk[i][j] = sin_huff[i][j]\n",
    "                ro.append(i)\n",
    "                col.append(j)\n",
    "            else:\n",
    "                mk[i][j] = 0\n",
    "    return mk,ro,col"
   ]
  },
  {
   "cell_type": "code",
   "execution_count": 623,
   "metadata": {},
   "outputs": [],
   "source": [
    "def draw_lines(mk,ro,theta,diag):\n",
    "    y1=0\n",
    "    x1 = (diag-ro)-y1*math.sin(theta-90)/np.cos(np.radians(theta-90))\n",
    "    y2= mk.shape[1]\n",
    "    x2 = (diag-ro)-y2*math.sin(theta-90)/np.cos(np.radians(theta-90))\n",
    "    return x1,x2"
   ]
  },
  {
   "cell_type": "code",
   "execution_count": 624,
   "metadata": {},
   "outputs": [],
   "source": [
    "\n",
    "diag = calc_diag(vert_line)\n",
    "#slants = darker(vert_line)\n",
    "sin_huff = huff(slants,diag)\n",
    "\n",
    "diag = calc_diag(sob_vert_line)\n",
    "#slants = darker(sob_vert_line)\n",
    "sin_huff = huff(sob_vert_line,diag)"
   ]
  },
  {
   "cell_type": "code",
   "execution_count": 625,
   "metadata": {},
   "outputs": [
    {
     "data": {
      "text/plain": [
       "True"
      ]
     },
     "execution_count": 625,
     "metadata": {},
     "output_type": "execute_result"
    }
   ],
   "source": [
    "#cv2.imwrite('manju2.jpg',slants)\n",
    "cv2.imwrite('sine1.jpg',sin_huff)\n",
    "#cv2.imwrite('sine2.jpg',sin_huff)"
   ]
  },
  {
   "cell_type": "code",
   "execution_count": 626,
   "metadata": {},
   "outputs": [
    {
     "name": "stdout",
     "output_type": "stream",
     "text": [
      "55.0\n"
     ]
    },
    {
     "data": {
      "text/plain": [
       "True"
      ]
     },
     "execution_count": 626,
     "metadata": {},
     "output_type": "execute_result"
    }
   ],
   "source": [
    "mk,ro,col = highlight(sin_huff)\n",
    "img = cv2.imread('hough.jpg')"
   ]
  },
  {
   "cell_type": "code",
   "execution_count": 618,
   "metadata": {},
   "outputs": [],
   "source": [
    "for i in range(len(ro)):\n",
    "    x1,x2 = draw_lines(mk,ro[i],col[i],diag)\n",
    "    line = cv2.line(img,(x1.astype(int),0),(x2.astype(int),666),(0,255,0))"
   ]
  },
  {
   "cell_type": "code",
   "execution_count": 619,
   "metadata": {},
   "outputs": [
    {
     "data": {
      "text/plain": [
       "True"
      ]
     },
     "execution_count": 619,
     "metadata": {},
     "output_type": "execute_result"
    }
   ],
   "source": [
    "cv2.imwrite('red.jpg',line)\n",
    "#cv2.imwrite('blue.jpg',line)"
   ]
  },
  {
   "cell_type": "code",
   "execution_count": null,
   "metadata": {},
   "outputs": [],
   "source": []
  },
  {
   "cell_type": "code",
   "execution_count": 602,
   "metadata": {},
   "outputs": [
    {
     "data": {
      "text/plain": [
       "820"
      ]
     },
     "execution_count": 602,
     "metadata": {},
     "output_type": "execute_result"
    }
   ],
   "source": [
    "diag"
   ]
  },
  {
   "cell_type": "markdown",
   "metadata": {},
   "source": [
    "### Coin detection"
   ]
  },
  {
   "cell_type": "code",
   "execution_count": 644,
   "metadata": {},
   "outputs": [
    {
     "data": {
      "text/plain": [
       "True"
      ]
     },
     "execution_count": 644,
     "metadata": {},
     "output_type": "execute_result"
    }
   ],
   "source": [
    "img = cv2.imread('hough.jpg')\n",
    "cir_img = img.copy()\n",
    "cir = img[:,:,1]\n",
    "cir_edge = np.zeros([cir.shape[0],cir.shape[1]])\n",
    "sobel = ([1,0,-1],[2,0,-2],[1,0,-1])\n",
    "for i in range(2,cir.shape[0]-1):\n",
    "    for j in range(2,cir.shape[1]-1):\n",
    "        R=S=T=bound=mid=0\n",
    "        R = sobel[0][0] *cir[i-1][j-1]+sobel[0][1]*cir[i-1][j]+sobel[0][2]*cir[i-1][j+1]\n",
    "        S = sobel[1][0] *cir[i][j-1]+sobel[1][1]*cir[i][j]+sobel[1][2]*cir[i][j+1]\n",
    "        T = sobel[2][0] *cir[i+1][j-1]+sobel[2][1]*cir[i+1][j]+sobel[2][2]*cir[i+1][j+1]\n",
    "        bound = R+S+T\n",
    "        if(bound > 80):\n",
    "            cir_edge[i][j] = bound\n",
    "#cv2.imwrite('cir_edge.jpg',cir_edge)       \n",
    "        \n",
    "#implement the formulas for a and b\n",
    "r = 24\n",
    "x,y = sob_vert_line.shape\n",
    "accum = np.zeros([1333,1000])\n",
    "for i in range(x):\n",
    "    for j in range(y):\n",
    "        if(sob_vert_line[i][j]>500):\n",
    "            for theta in (0,360):\n",
    "                a = math.floor(i - r*math.cos(np.radians(theta)))\n",
    "                b =  math.floor(j - r*math.sin(np.radians(theta)))\n",
    "                accum[a][b] += 1\n",
    "cv2.imwrite('huff_circles.jpg',accum)\n",
    "        \n",
    "p = []   #a\n",
    "q = []  #b\n",
    "count =0\n",
    "for i in range(0,accum.shape[0]):\n",
    "    for j in range(0,accum.shape[1]):\n",
    "        if(accum[i][j]>150):\n",
    "            p.append(j)\n",
    "            q.append(i)\n",
    "            \n",
    "for i in range(len(p)):\n",
    "    cv2.circle(cir_img,center = (p[i],q[i]),radius = 24,color=(0,0,255),thickness =1)\n",
    "cv2.imwrite('coin.jpg',cir_img)"
   ]
  },
  {
   "cell_type": "code",
   "execution_count": 645,
   "metadata": {},
   "outputs": [
    {
     "data": {
      "text/plain": [
       "True"
      ]
     },
     "execution_count": 645,
     "metadata": {},
     "output_type": "execute_result"
    }
   ],
   "source": [
    "cv2.imwrite('cir_edge.jpg',cir_edge)  "
   ]
  },
  {
   "cell_type": "code",
   "execution_count": 643,
   "metadata": {},
   "outputs": [
    {
     "data": {
      "text/plain": [
       "718.0"
      ]
     },
     "execution_count": 643,
     "metadata": {},
     "output_type": "execute_result"
    }
   ],
   "source": [
    "np.max(sob_vert_line)"
   ]
  },
  {
   "cell_type": "code",
   "execution_count": null,
   "metadata": {},
   "outputs": [],
   "source": []
  }
 ],
 "metadata": {
  "kernelspec": {
   "display_name": "Python 3",
   "language": "python",
   "name": "python3"
  },
  "language_info": {
   "codemirror_mode": {
    "name": "ipython",
    "version": 3
   },
   "file_extension": ".py",
   "mimetype": "text/x-python",
   "name": "python",
   "nbconvert_exporter": "python",
   "pygments_lexer": "ipython3",
   "version": "3.6.7"
  }
 },
 "nbformat": 4,
 "nbformat_minor": 2
}
